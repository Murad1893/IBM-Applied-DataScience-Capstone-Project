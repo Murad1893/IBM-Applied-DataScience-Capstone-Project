{
    "cells": [
        {
            "metadata": {},
            "cell_type": "markdown",
            "source": "<h1 align='center'> Applied Data Science Capstone Project </h1>\n\n### Project Overview:\nThis notebook will be used to predict the possibility and severity of car's accidents occuring when taking a certain route."
        },
        {
            "metadata": {},
            "cell_type": "code",
            "source": "import numpy as np\nimport pandas as pd",
            "execution_count": 20,
            "outputs": []
        },
        {
            "metadata": {},
            "cell_type": "code",
            "source": "print('Hello Capstone Project Course!')",
            "execution_count": 21,
            "outputs": [
                {
                    "output_type": "stream",
                    "text": "Hello Capstone Project Course!\n",
                    "name": "stdout"
                }
            ]
        },
        {
            "metadata": {},
            "cell_type": "code",
            "source": "import types\nimport pandas as pd\nfrom botocore.client import Config\nimport ibm_boto3\n\ndef __iter__(self): return 0\n\n# @hidden_cell\n# The following code accesses a file in your IBM Cloud Object Storage. It includes your credentials.\n# You might want to remove those credentials before you share the notebook.\nclient_0d8c5d63af9a4b7db170e2044f408f22 = ibm_boto3.client(service_name='s3',\n    ibm_api_key_id='ON8hV0KD4MGnGCCESTH35To-SlU-1S4cG4TtreuPCFIS',\n    ibm_auth_endpoint=\"https://iam.cloud.ibm.com/oidc/token\",\n    config=Config(signature_version='oauth'),\n    endpoint_url='https://s3-api.us-geo.objectstorage.service.networklayer.com')\n\nbody = client_0d8c5d63af9a4b7db170e2044f408f22.get_object(Bucket='testprojectcourseraibmcourse-donotdelete-pr-lhheeauk2kss1e',Key='Data-Collisions.csv')['Body']\n# add missing __iter__ method, so pandas accepts body as file-like object\nif not hasattr(body, \"__iter__\"): body.__iter__ = types.MethodType( __iter__, body )\n\ndf= pd.read_csv(body, index_col='OBJECTID')",
            "execution_count": 22,
            "outputs": [
                {
                    "output_type": "stream",
                    "text": "/opt/conda/envs/Python36/lib/python3.6/site-packages/IPython/core/interactiveshell.py:3020: DtypeWarning: Columns (33) have mixed types. Specify dtype option on import or set low_memory=False.\n  interactivity=interactivity, compiler=compiler, result=result)\n",
                    "name": "stderr"
                }
            ]
        },
        {
            "metadata": {},
            "cell_type": "markdown",
            "source": "# Snippets for Quiz 1"
        },
        {
            "metadata": {},
            "cell_type": "code",
            "source": "# Checking no. of attributes in Seattle accident data\nlen(df.columns)",
            "execution_count": 23,
            "outputs": [
                {
                    "output_type": "execute_result",
                    "execution_count": 23,
                    "data": {
                        "text/plain": "37"
                    },
                    "metadata": {}
                }
            ]
        },
        {
            "metadata": {},
            "cell_type": "code",
            "source": "df.info()",
            "execution_count": 24,
            "outputs": [
                {
                    "output_type": "stream",
                    "text": "<class 'pandas.core.frame.DataFrame'>\nInt64Index: 194673 entries, 1 to 219547\nData columns (total 37 columns):\nSEVERITYCODE      194673 non-null int64\nX                 189339 non-null float64\nY                 189339 non-null float64\nINCKEY            194673 non-null int64\nCOLDETKEY         194673 non-null int64\nREPORTNO          194673 non-null object\nSTATUS            194673 non-null object\nADDRTYPE          192747 non-null object\nINTKEY            65070 non-null float64\nLOCATION          191996 non-null object\nEXCEPTRSNCODE     84811 non-null object\nEXCEPTRSNDESC     5638 non-null object\nSEVERITYCODE.1    194673 non-null int64\nSEVERITYDESC      194673 non-null object\nCOLLISIONTYPE     189769 non-null object\nPERSONCOUNT       194673 non-null int64\nPEDCOUNT          194673 non-null int64\nPEDCYLCOUNT       194673 non-null int64\nVEHCOUNT          194673 non-null int64\nINCDATE           194673 non-null object\nINCDTTM           194673 non-null object\nJUNCTIONTYPE      188344 non-null object\nSDOT_COLCODE      194673 non-null int64\nSDOT_COLDESC      194673 non-null object\nINATTENTIONIND    29805 non-null object\nUNDERINFL         189789 non-null object\nWEATHER           189592 non-null object\nROADCOND          189661 non-null object\nLIGHTCOND         189503 non-null object\nPEDROWNOTGRNT     4667 non-null object\nSDOTCOLNUM        114936 non-null float64\nSPEEDING          9333 non-null object\nST_COLCODE        194655 non-null object\nST_COLDESC        189769 non-null object\nSEGLANEKEY        194673 non-null int64\nCROSSWALKKEY      194673 non-null int64\nHITPARKEDCAR      194673 non-null object\ndtypes: float64(4), int64(11), object(22)\nmemory usage: 56.4+ MB\n",
                    "name": "stdout"
                }
            ]
        },
        {
            "metadata": {},
            "cell_type": "code",
            "source": "# Checking total number of empty inputs in \" ROADCOND\"\nlen(df[df['ROADCOND'].isnull()])",
            "execution_count": 25,
            "outputs": [
                {
                    "output_type": "execute_result",
                    "execution_count": 25,
                    "data": {
                        "text/plain": "5012"
                    },
                    "metadata": {}
                }
            ]
        },
        {
            "metadata": {},
            "cell_type": "code",
            "source": "# Checking dataset balanced or not\n%matplotlib inline\ndf['SEVERITYCODE'].value_counts().plot(kind='bar')",
            "execution_count": 26,
            "outputs": [
                {
                    "output_type": "execute_result",
                    "execution_count": 26,
                    "data": {
                        "text/plain": "<matplotlib.axes._subplots.AxesSubplot at 0x7f0f66af5518>"
                    },
                    "metadata": {}
                },
                {
                    "output_type": "display_data",
                    "data": {
                        "text/plain": "<Figure size 432x288 with 1 Axes>",
                        "image/png": "[encoded data removed]"
                    },
                    "metadata": {
                        "needs_background": "light"
                    }
                }
            ]
        },
        {
            "metadata": {},
            "cell_type": "markdown",
            "source": "# Project Phases:"
        },
        {
            "metadata": {},
            "cell_type": "code",
            "source": "df.columns",
            "execution_count": 27,
            "outputs": [
                {
                    "output_type": "execute_result",
                    "execution_count": 27,
                    "data": {
                        "text/plain": "Index(['SEVERITYCODE', 'X', 'Y', 'INCKEY', 'COLDETKEY', 'REPORTNO', 'STATUS',\n       'ADDRTYPE', 'INTKEY', 'LOCATION', 'EXCEPTRSNCODE', 'EXCEPTRSNDESC',\n       'SEVERITYCODE.1', 'SEVERITYDESC', 'COLLISIONTYPE', 'PERSONCOUNT',\n       'PEDCOUNT', 'PEDCYLCOUNT', 'VEHCOUNT', 'INCDATE', 'INCDTTM',\n       'JUNCTIONTYPE', 'SDOT_COLCODE', 'SDOT_COLDESC', 'INATTENTIONIND',\n       'UNDERINFL', 'WEATHER', 'ROADCOND', 'LIGHTCOND', 'PEDROWNOTGRNT',\n       'SDOTCOLNUM', 'SPEEDING', 'ST_COLCODE', 'ST_COLDESC', 'SEGLANEKEY',\n       'CROSSWALKKEY', 'HITPARKEDCAR'],\n      dtype='object')"
                    },
                    "metadata": {}
                }
            ]
        },
        {
            "metadata": {},
            "cell_type": "markdown",
            "source": "### Data Pre-processing"
        },
        {
            "metadata": {},
            "cell_type": "code",
            "source": "data = df[['SEVERITYCODE','PERSONCOUNT','VEHCOUNT','WEATHER','ROADCOND','LIGHTCOND','INATTENTIONIND','UNDERINFL']]\nattributes = data.columns.to_list()",
            "execution_count": 28,
            "outputs": []
        },
        {
            "metadata": {},
            "cell_type": "markdown",
            "source": "The data obtained has many null values. We could have eliminated the null values but that would result in loss of dataset. Therefore, we replace the NaN values with the value with highest frequency in th column, since that value has the highest probability."
        },
        {
            "metadata": {},
            "cell_type": "code",
            "source": "for column in attributes:\n    data[column].fillna(data[column].mode()[0], inplace=True)",
            "execution_count": 29,
            "outputs": [
                {
                    "output_type": "stream",
                    "text": "/opt/conda/envs/Python36/lib/python3.6/site-packages/pandas/core/generic.py:6130: SettingWithCopyWarning: \nA value is trying to be set on a copy of a slice from a DataFrame\n\nSee the caveats in the documentation: http://pandas.pydata.org/pandas-docs/stable/indexing.html#indexing-view-versus-copy\n  self._update_inplace(new_data)\n",
                    "name": "stderr"
                }
            ]
        },
        {
            "metadata": {},
            "cell_type": "code",
            "source": "data['INATTENTIONIND'].replace('Y',1,inplace=True)\ndata['INATTENTIONIND'].replace('N',0,inplace=True)\ndata.INATTENTIONIND.astype('int64')\ndata['UNDERINFL'].replace('Y',1,inplace=True)\ndata['UNDERINFL'].replace('N',0,inplace=True)\ndata.UNDERINFL.astype('int64');",
            "execution_count": 30,
            "outputs": [
                {
                    "output_type": "stream",
                    "text": "/opt/conda/envs/Python36/lib/python3.6/site-packages/pandas/core/generic.py:6586: SettingWithCopyWarning: \nA value is trying to be set on a copy of a slice from a DataFrame\n\nSee the caveats in the documentation: http://pandas.pydata.org/pandas-docs/stable/indexing.html#indexing-view-versus-copy\n  self._update_inplace(new_data)\n",
                    "name": "stderr"
                }
            ]
        },
        {
            "metadata": {},
            "cell_type": "code",
            "source": "weathers=pd.get_dummies(data.WEATHER)\ndata = pd.concat([data,weathers],axis=1)",
            "execution_count": 31,
            "outputs": []
        },
        {
            "metadata": {},
            "cell_type": "code",
            "source": "data.drop(columns='WEATHER', inplace=True)",
            "execution_count": 32,
            "outputs": []
        },
        {
            "metadata": {},
            "cell_type": "code",
            "source": "data.rename(columns={'Fog/Smog/Smoke': 'Smoke','Sleet/Hail/Freezing Rain':'Hail', 'Unknown': 'Unpredictable Weather', 'Blowing Sand/Dirt': 'Sandy'}, inplace=True)",
            "execution_count": 33,
            "outputs": []
        },
        {
            "metadata": {},
            "cell_type": "code",
            "source": "data.head()",
            "execution_count": 34,
            "outputs": [
                {
                    "output_type": "execute_result",
                    "execution_count": 34,
                    "data": {
                        "text/plain": "          SEVERITYCODE  PERSONCOUNT  VEHCOUNT ROADCOND  \\\nOBJECTID                                                 \n1                    2            2         2      Wet   \n2                    1            2         2      Wet   \n3                    1            4         3      Dry   \n4                    1            3         3      Dry   \n5                    2            2         2      Wet   \n\n                        LIGHTCOND  INATTENTIONIND UNDERINFL  Sandy  Clear  \\\nOBJECTID                                                                    \n1                        Daylight               1         0      0      0   \n2         Dark - Street Lights On               1         0      0      0   \n3                        Daylight               1         0      0      0   \n4                        Daylight               1         0      0      1   \n5                        Daylight               1         0      0      0   \n\n          Smoke  Other  Overcast  Partly Cloudy  Raining  Severe Crosswind  \\\nOBJECTID                                                                     \n1             0      0         1              0        0                 0   \n2             0      0         0              0        1                 0   \n3             0      0         1              0        0                 0   \n4             0      0         0              0        0                 0   \n5             0      0         0              0        1                 0   \n\n          Hail  Snowing  Unpredictable Weather  \nOBJECTID                                        \n1            0        0                      0  \n2            0        0                      0  \n3            0        0                      0  \n4            0        0                      0  \n5            0        0                      0  ",
                        "text/html": "<div>\n<style scoped>\n    .dataframe tbody tr th:only-of-type {\n        vertical-align: middle;\n    }\n\n    .dataframe tbody tr th {\n        vertical-align: top;\n    }\n\n    .dataframe thead th {\n        text-align: right;\n    }\n</style>\n<table border=\"1\" class=\"dataframe\">\n  <thead>\n    <tr style=\"text-align: right;\">\n      <th></th>\n      <th>SEVERITYCODE</th>\n      <th>PERSONCOUNT</th>\n      <th>VEHCOUNT</th>\n      <th>ROADCOND</th>\n      <th>LIGHTCOND</th>\n      <th>INATTENTIONIND</th>\n      <th>UNDERINFL</th>\n      <th>Sandy</th>\n      <th>Clear</th>\n      <th>Smoke</th>\n      <th>Other</th>\n      <th>Overcast</th>\n      <th>Partly Cloudy</th>\n      <th>Raining</th>\n      <th>Severe Crosswind</th>\n      <th>Hail</th>\n      <th>Snowing</th>\n      <th>Unpredictable Weather</th>\n    </tr>\n    <tr>\n      <th>OBJECTID</th>\n      <th></th>\n      <th></th>\n      <th></th>\n      <th></th>\n      <th></th>\n      <th></th>\n      <th></th>\n      <th></th>\n      <th></th>\n      <th></th>\n      <th></th>\n      <th></th>\n      <th></th>\n      <th></th>\n      <th></th>\n      <th></th>\n      <th></th>\n      <th></th>\n    </tr>\n  </thead>\n  <tbody>\n    <tr>\n      <th>1</th>\n      <td>2</td>\n      <td>2</td>\n      <td>2</td>\n      <td>Wet</td>\n      <td>Daylight</td>\n      <td>1</td>\n      <td>0</td>\n      <td>0</td>\n      <td>0</td>\n      <td>0</td>\n      <td>0</td>\n      <td>1</td>\n      <td>0</td>\n      <td>0</td>\n      <td>0</td>\n      <td>0</td>\n      <td>0</td>\n      <td>0</td>\n    </tr>\n    <tr>\n      <th>2</th>\n      <td>1</td>\n      <td>2</td>\n      <td>2</td>\n      <td>Wet</td>\n      <td>Dark - Street Lights On</td>\n      <td>1</td>\n      <td>0</td>\n      <td>0</td>\n      <td>0</td>\n      <td>0</td>\n      <td>0</td>\n      <td>0</td>\n      <td>0</td>\n      <td>1</td>\n      <td>0</td>\n      <td>0</td>\n      <td>0</td>\n      <td>0</td>\n    </tr>\n    <tr>\n      <th>3</th>\n      <td>1</td>\n      <td>4</td>\n      <td>3</td>\n      <td>Dry</td>\n      <td>Daylight</td>\n      <td>1</td>\n      <td>0</td>\n      <td>0</td>\n      <td>0</td>\n      <td>0</td>\n      <td>0</td>\n      <td>1</td>\n      <td>0</td>\n      <td>0</td>\n      <td>0</td>\n      <td>0</td>\n      <td>0</td>\n      <td>0</td>\n    </tr>\n    <tr>\n      <th>4</th>\n      <td>1</td>\n      <td>3</td>\n      <td>3</td>\n      <td>Dry</td>\n      <td>Daylight</td>\n      <td>1</td>\n      <td>0</td>\n      <td>0</td>\n      <td>1</td>\n      <td>0</td>\n      <td>0</td>\n      <td>0</td>\n      <td>0</td>\n      <td>0</td>\n      <td>0</td>\n      <td>0</td>\n      <td>0</td>\n      <td>0</td>\n    </tr>\n    <tr>\n      <th>5</th>\n      <td>2</td>\n      <td>2</td>\n      <td>2</td>\n      <td>Wet</td>\n      <td>Daylight</td>\n      <td>1</td>\n      <td>0</td>\n      <td>0</td>\n      <td>0</td>\n      <td>0</td>\n      <td>0</td>\n      <td>0</td>\n      <td>0</td>\n      <td>1</td>\n      <td>0</td>\n      <td>0</td>\n      <td>0</td>\n      <td>0</td>\n    </tr>\n  </tbody>\n</table>\n</div>"
                    },
                    "metadata": {}
                }
            ]
        },
        {
            "metadata": {},
            "cell_type": "markdown",
            "source": "\nPerforming the One-Hot-Encoding for ROADCOND and  LIGHTCOND as well."
        },
        {
            "metadata": {},
            "cell_type": "code",
            "source": "lighting = pd.get_dummies(data.LIGHTCOND)\ndata = pd.concat([data,lighting],axis=1)",
            "execution_count": 35,
            "outputs": []
        },
        {
            "metadata": {},
            "cell_type": "code",
            "source": "data.drop('LIGHTCOND',axis=1,inplace=True)\ndata.rename(columns={'Unknown': 'Unknown Lighting'}, inplace=True)",
            "execution_count": 36,
            "outputs": []
        },
        {
            "metadata": {},
            "cell_type": "code",
            "source": "roads = pd.get_dummies(data.ROADCOND, prefix='roadcond_')\ndata = pd.concat([data,roads],axis=1)",
            "execution_count": 37,
            "outputs": []
        },
        {
            "metadata": {},
            "cell_type": "code",
            "source": "data.drop('ROADCOND',axis=1,inplace=True)\ndata.head()",
            "execution_count": 38,
            "outputs": [
                {
                    "output_type": "execute_result",
                    "execution_count": 38,
                    "data": {
                        "text/plain": "          SEVERITYCODE  PERSONCOUNT  VEHCOUNT  INATTENTIONIND UNDERINFL  \\\nOBJECTID                                                                  \n1                    2            2         2               1         0   \n2                    1            2         2               1         0   \n3                    1            4         3               1         0   \n4                    1            3         3               1         0   \n5                    2            2         2               1         0   \n\n          Sandy  Clear  Smoke  Other  Overcast  ...  Unknown Lighting  \\\nOBJECTID                                        ...                     \n1             0      0      0      0         1  ...                 0   \n2             0      0      0      0         0  ...                 0   \n3             0      0      0      0         1  ...                 0   \n4             0      1      0      0         0  ...                 0   \n5             0      0      0      0         0  ...                 0   \n\n          roadcond__Dry  roadcond__Ice  roadcond__Oil  roadcond__Other  \\\nOBJECTID                                                                 \n1                     0              0              0                0   \n2                     0              0              0                0   \n3                     1              0              0                0   \n4                     1              0              0                0   \n5                     0              0              0                0   \n\n          roadcond__Sand/Mud/Dirt  roadcond__Snow/Slush  \\\nOBJECTID                                                  \n1                               0                     0   \n2                               0                     0   \n3                               0                     0   \n4                               0                     0   \n5                               0                     0   \n\n          roadcond__Standing Water  roadcond__Unknown  roadcond__Wet  \nOBJECTID                                                              \n1                                0                  0              1  \n2                                0                  0              1  \n3                                0                  0              0  \n4                                0                  0              0  \n5                                0                  0              1  \n\n[5 rows x 34 columns]",
                        "text/html": "<div>\n<style scoped>\n    .dataframe tbody tr th:only-of-type {\n        vertical-align: middle;\n    }\n\n    .dataframe tbody tr th {\n        vertical-align: top;\n    }\n\n    .dataframe thead th {\n        text-align: right;\n    }\n</style>\n<table border=\"1\" class=\"dataframe\">\n  <thead>\n    <tr style=\"text-align: right;\">\n      <th></th>\n      <th>SEVERITYCODE</th>\n      <th>PERSONCOUNT</th>\n      <th>VEHCOUNT</th>\n      <th>INATTENTIONIND</th>\n      <th>UNDERINFL</th>\n      <th>Sandy</th>\n      <th>Clear</th>\n      <th>Smoke</th>\n      <th>Other</th>\n      <th>Overcast</th>\n      <th>...</th>\n      <th>Unknown Lighting</th>\n      <th>roadcond__Dry</th>\n      <th>roadcond__Ice</th>\n      <th>roadcond__Oil</th>\n      <th>roadcond__Other</th>\n      <th>roadcond__Sand/Mud/Dirt</th>\n      <th>roadcond__Snow/Slush</th>\n      <th>roadcond__Standing Water</th>\n      <th>roadcond__Unknown</th>\n      <th>roadcond__Wet</th>\n    </tr>\n    <tr>\n      <th>OBJECTID</th>\n      <th></th>\n      <th></th>\n      <th></th>\n      <th></th>\n      <th></th>\n      <th></th>\n      <th></th>\n      <th></th>\n      <th></th>\n      <th></th>\n      <th></th>\n      <th></th>\n      <th></th>\n      <th></th>\n      <th></th>\n      <th></th>\n      <th></th>\n      <th></th>\n      <th></th>\n      <th></th>\n      <th></th>\n    </tr>\n  </thead>\n  <tbody>\n    <tr>\n      <th>1</th>\n      <td>2</td>\n      <td>2</td>\n      <td>2</td>\n      <td>1</td>\n      <td>0</td>\n      <td>0</td>\n      <td>0</td>\n      <td>0</td>\n      <td>0</td>\n      <td>1</td>\n      <td>...</td>\n      <td>0</td>\n      <td>0</td>\n      <td>0</td>\n      <td>0</td>\n      <td>0</td>\n      <td>0</td>\n      <td>0</td>\n      <td>0</td>\n      <td>0</td>\n      <td>1</td>\n    </tr>\n    <tr>\n      <th>2</th>\n      <td>1</td>\n      <td>2</td>\n      <td>2</td>\n      <td>1</td>\n      <td>0</td>\n      <td>0</td>\n      <td>0</td>\n      <td>0</td>\n      <td>0</td>\n      <td>0</td>\n      <td>...</td>\n      <td>0</td>\n      <td>0</td>\n      <td>0</td>\n      <td>0</td>\n      <td>0</td>\n      <td>0</td>\n      <td>0</td>\n      <td>0</td>\n      <td>0</td>\n      <td>1</td>\n    </tr>\n    <tr>\n      <th>3</th>\n      <td>1</td>\n      <td>4</td>\n      <td>3</td>\n      <td>1</td>\n      <td>0</td>\n      <td>0</td>\n      <td>0</td>\n      <td>0</td>\n      <td>0</td>\n      <td>1</td>\n      <td>...</td>\n      <td>0</td>\n      <td>1</td>\n      <td>0</td>\n      <td>0</td>\n      <td>0</td>\n      <td>0</td>\n      <td>0</td>\n      <td>0</td>\n      <td>0</td>\n      <td>0</td>\n    </tr>\n    <tr>\n      <th>4</th>\n      <td>1</td>\n      <td>3</td>\n      <td>3</td>\n      <td>1</td>\n      <td>0</td>\n      <td>0</td>\n      <td>1</td>\n      <td>0</td>\n      <td>0</td>\n      <td>0</td>\n      <td>...</td>\n      <td>0</td>\n      <td>1</td>\n      <td>0</td>\n      <td>0</td>\n      <td>0</td>\n      <td>0</td>\n      <td>0</td>\n      <td>0</td>\n      <td>0</td>\n      <td>0</td>\n    </tr>\n    <tr>\n      <th>5</th>\n      <td>2</td>\n      <td>2</td>\n      <td>2</td>\n      <td>1</td>\n      <td>0</td>\n      <td>0</td>\n      <td>0</td>\n      <td>0</td>\n      <td>0</td>\n      <td>0</td>\n      <td>...</td>\n      <td>0</td>\n      <td>0</td>\n      <td>0</td>\n      <td>0</td>\n      <td>0</td>\n      <td>0</td>\n      <td>0</td>\n      <td>0</td>\n      <td>0</td>\n      <td>1</td>\n    </tr>\n  </tbody>\n</table>\n<p>5 rows \u00d7 34 columns</p>\n</div>"
                    },
                    "metadata": {}
                }
            ]
        },
        {
            "metadata": {},
            "cell_type": "code",
            "source": "data.shape",
            "execution_count": 39,
            "outputs": [
                {
                    "output_type": "execute_result",
                    "execution_count": 39,
                    "data": {
                        "text/plain": "(194673, 34)"
                    },
                    "metadata": {}
                }
            ]
        },
        {
            "metadata": {},
            "cell_type": "markdown",
            "source": "### Data Visualization"
        },
        {
            "metadata": {
                "scrolled": true
            },
            "cell_type": "code",
            "source": "import matplotlib.pyplot as plt\nimport seaborn as sns\n\nsns.boxenplot(x='SEVERITYCODE',y='PERSONCOUNT',data=data)\nplt.title(\"Relationship between Severity vs Number of people involved in the accident\")\nplt.xlabel(\"Severity\")\nplt.ylabel(\"Number of people involved\")\nplt.show()",
            "execution_count": 43,
            "outputs": [
                {
                    "output_type": "display_data",
                    "data": {
                        "text/plain": "<Figure size 432x288 with 1 Axes>",
                        "image/png": "[encoded data removed]"
                    },
                    "metadata": {
                        "needs_background": "light"
                    }
                }
            ]
        },
        {
            "metadata": {},
            "cell_type": "markdown",
            "source": "<strong> Observation #01: </strong>\n<p> Through this we could conclude that if there are higher people traveling, the\npossibility of severe collision is less since more people mean more traffic\nwhich leads to less possible speeding. </p>"
        },
        {
            "metadata": {},
            "cell_type": "code",
            "source": "ax = df[df['SEVERITYCODE'] == 1][0:50].plot(kind='scatter', x='VEHCOUNT', y='PERSONCOUNT', color='Green', label='Property Damage Only Collision',s=100);\ndf[df['SEVERITYCODE'] == 2][0:50].plot(kind='scatter', x='VEHCOUNT', y='PERSONCOUNT', color='Red', label='Injury Collision', ax=ax,figsize=(10,5), s=100);\nplt.title(\"Relationship between Vehicle Count vs Number of people involved in the accident\")\nplt.xlabel(\"Vehicle count\")\nplt.ylabel(\"Number of people involved\")\nplt.show()",
            "execution_count": 44,
            "outputs": [
                {
                    "output_type": "display_data",
                    "data": {
                        "text/plain": "<Figure size 720x360 with 1 Axes>",
                        "image/png": "[encoded data removed]"
                    },
                    "metadata": {
                        "needs_background": "light"
                    }
                }
            ]
        },
        {
            "metadata": {},
            "cell_type": "markdown",
            "source": "<strong> Observation #02: </strong> \n<p> Seeing this plot, we could conclude that conclude that when the number of\nvehicles involved in the accident were high, there was more injury collision\nthan the collisions which only damaged the property. </p>"
        },
        {
            "metadata": {},
            "cell_type": "markdown",
            "source": "### Building the model"
        },
        {
            "metadata": {},
            "cell_type": "code",
            "source": "y = np.asarray(data['SEVERITYCODE'])\ny[0:5]",
            "execution_count": 45,
            "outputs": [
                {
                    "output_type": "execute_result",
                    "execution_count": 45,
                    "data": {
                        "text/plain": "array([2, 1, 1, 1, 2])"
                    },
                    "metadata": {}
                }
            ]
        },
        {
            "metadata": {},
            "cell_type": "code",
            "source": "X = data.drop('SEVERITYCODE', axis=1)\nX = np.asarray(X[X.columns.to_list()])\nX = X.astype(int)",
            "execution_count": 46,
            "outputs": []
        },
        {
            "metadata": {},
            "cell_type": "markdown",
            "source": "#### Normalizing the model"
        },
        {
            "metadata": {},
            "cell_type": "code",
            "source": "from sklearn import preprocessing\nX = preprocessing.StandardScaler().fit(X).transform(X)\nX[0:5]",
            "execution_count": 47,
            "outputs": [
                {
                    "output_type": "stream",
                    "text": "/opt/conda/envs/Python36/lib/python3.6/site-packages/sklearn/utils/validation.py:595: DataConversionWarning: Data with input dtype int64 was converted to float64 by StandardScaler.\n  warnings.warn(msg, DataConversionWarning)\n/opt/conda/envs/Python36/lib/python3.6/site-packages/sklearn/utils/validation.py:595: DataConversionWarning: Data with input dtype int64 was converted to float64 by StandardScaler.\n  warnings.warn(msg, DataConversionWarning)\n",
                    "name": "stderr"
                },
                {
                    "output_type": "execute_result",
                    "execution_count": 47,
                    "data": {
                        "text/plain": "array([[-0.33020207,  0.12553783,  0.        , -0.2217116 , -0.01696304,\n        -1.21707436, -0.05414257, -0.06551471, -0.03476509,  2.45445634,\n        -0.00506801, -0.45298634, -0.011333  , -0.02409974, -0.06841713,\n        -0.28988624, -0.08920831, -0.07872239, -0.576075  , -0.00751719,\n        -0.1141037 ,  0.77768637, -0.17682024, -0.06551471, -0.03476509,\n        -0.27267986, -1.4099744 , -0.07905204, -0.01813462, -0.02604842,\n        -0.01963186, -0.07200071, -0.02431221, -0.28975087,  1.76085874],\n       [-0.33020207,  0.12553783,  0.        , -0.2217116 , -0.01696304,\n        -1.21707436, -0.05414257, -0.06551471, -0.03476509, -0.4074222 ,\n        -0.00506801,  2.2075721 , -0.011333  , -0.02409974, -0.06841713,\n        -0.28988624, -0.08920831, -0.07872239,  1.73588509, -0.00751719,\n        -0.1141037 , -1.2858654 , -0.17682024, -0.06551471, -0.03476509,\n        -0.27267986, -1.4099744 , -0.07905204, -0.01813462, -0.02604842,\n        -0.01963186, -0.07200071, -0.02431221, -0.28975087,  1.76085874],\n       [ 1.15576451,  1.7102107 ,  0.        , -0.2217116 , -0.01696304,\n        -1.21707436, -0.05414257, -0.06551471, -0.03476509,  2.45445634,\n        -0.00506801, -0.45298634, -0.011333  , -0.02409974, -0.06841713,\n        -0.28988624, -0.08920831, -0.07872239, -0.576075  , -0.00751719,\n        -0.1141037 ,  0.77768637, -0.17682024, -0.06551471, -0.03476509,\n        -0.27267986,  0.70923273, -0.07905204, -0.01813462, -0.02604842,\n        -0.01963186, -0.07200071, -0.02431221, -0.28975087, -0.56790473],\n       [ 0.41278122,  1.7102107 ,  0.        , -0.2217116 , -0.01696304,\n         0.82164248, -0.05414257, -0.06551471, -0.03476509, -0.4074222 ,\n        -0.00506801, -0.45298634, -0.011333  , -0.02409974, -0.06841713,\n        -0.28988624, -0.08920831, -0.07872239, -0.576075  , -0.00751719,\n        -0.1141037 ,  0.77768637, -0.17682024, -0.06551471, -0.03476509,\n        -0.27267986,  0.70923273, -0.07905204, -0.01813462, -0.02604842,\n        -0.01963186, -0.07200071, -0.02431221, -0.28975087, -0.56790473],\n       [-0.33020207,  0.12553783,  0.        , -0.2217116 , -0.01696304,\n        -1.21707436, -0.05414257, -0.06551471, -0.03476509, -0.4074222 ,\n        -0.00506801,  2.2075721 , -0.011333  , -0.02409974, -0.06841713,\n        -0.28988624, -0.08920831, -0.07872239, -0.576075  , -0.00751719,\n        -0.1141037 ,  0.77768637, -0.17682024, -0.06551471, -0.03476509,\n        -0.27267986, -1.4099744 , -0.07905204, -0.01813462, -0.02604842,\n        -0.01963186, -0.07200071, -0.02431221, -0.28975087,  1.76085874]])"
                    },
                    "metadata": {}
                }
            ]
        },
        {
            "metadata": {},
            "cell_type": "markdown",
            "source": "#### Splitting the train/test dataset"
        },
        {
            "metadata": {},
            "cell_type": "code",
            "source": "from sklearn.model_selection import train_test_split\nX_train, X_test, y_train, y_test = train_test_split( X, y, test_size=0.2, random_state=4)\nprint ('Train set:', X_train.shape,  y_train.shape)\nprint ('Test set:', X_test.shape,  y_test.shape)",
            "execution_count": 48,
            "outputs": [
                {
                    "output_type": "stream",
                    "text": "Train set: (155738, 35) (155738,)\nTest set: (38935, 35) (38935,)\n",
                    "name": "stdout"
                }
            ]
        },
        {
            "metadata": {},
            "cell_type": "markdown",
            "source": "As there are only two classes to deal with hence a logistic regression classifier could be effective in this case."
        },
        {
            "metadata": {},
            "cell_type": "markdown",
            "source": "#### Logistic Regression"
        },
        {
            "metadata": {},
            "cell_type": "code",
            "source": "from sklearn.linear_model import LogisticRegression\nfrom sklearn.model_selection import GridSearchCV\nfrom sklearn.metrics import accuracy_score\nfrom sklearn.metrics import classification_report,jaccard_similarity_score,log_loss,f1_score",
            "execution_count": 49,
            "outputs": []
        },
        {
            "metadata": {},
            "cell_type": "markdown",
            "source": "Using Grid-Search in order to fine-tune our model parameters."
        },
        {
            "metadata": {},
            "cell_type": "code",
            "source": "params_lr = { 'C':[0.001,0.01,0.1,0.5],\n             'solver': ['newton-cg','lbfgs','liblinear']\n             }\nlr = LogisticRegression()\ngridsearch_lr = GridSearchCV(lr, params_lr,cv=5,iid=True)\ngridsearch_lr.fit(X_train,y_train)\n\nlr_best_params = gridsearch_lr.best_params_\nprint(\"Best accuracy obtained\",gridsearch_lr.best_score_)\nprint(\"Best parameters obtained\",gridsearch_lr.best_params_)\n\nlr_best_params",
            "execution_count": 50,
            "outputs": [
                {
                    "output_type": "stream",
                    "text": "/opt/conda/envs/Python36/lib/python3.6/site-packages/scipy/optimize/linesearch.py:313: LineSearchWarning: The line search algorithm did not converge\n  warn('The line search algorithm did not converge', LineSearchWarning)\n/opt/conda/envs/Python36/lib/python3.6/site-packages/sklearn/utils/optimize.py:195: UserWarning: Line Search failed\n  warnings.warn('Line Search failed')\n/opt/conda/envs/Python36/lib/python3.6/site-packages/scipy/optimize/linesearch.py:313: LineSearchWarning: The line search algorithm did not converge\n  warn('The line search algorithm did not converge', LineSearchWarning)\n/opt/conda/envs/Python36/lib/python3.6/site-packages/sklearn/utils/optimize.py:195: UserWarning: Line Search failed\n  warnings.warn('Line Search failed')\n",
                    "name": "stderr"
                },
                {
                    "output_type": "stream",
                    "text": "Best accuracy obtained 0.6997521478380356\nBest parameters obtained {'C': 0.001, 'solver': 'liblinear'}\n",
                    "name": "stdout"
                },
                {
                    "output_type": "execute_result",
                    "execution_count": 50,
                    "data": {
                        "text/plain": "{'C': 0.001, 'solver': 'liblinear'}"
                    },
                    "metadata": {}
                }
            ]
        },
        {
            "metadata": {},
            "cell_type": "code",
            "source": "lr = LogisticRegression(C=lr_best_params['C'], solver=lr_best_params['solver'])\nlr.fit(X_train,y_train)\nlr_predictions = lr.predict(X_test)\nlr_predictions_training = lr.predict_proba(X_train)\nacc = (accuracy_score(y_test, lr_predictions))*100",
            "execution_count": 51,
            "outputs": []
        },
        {
            "metadata": {},
            "cell_type": "code",
            "source": "table = pd.DataFrame({\n    'Jaccard Similarity Score': [round(jaccard_similarity_score(y_test,lr_predictions)*100,2)],\n    'F1 Score': [f1_score(y_test,lr_predictions,average='weighted',labels=np.unique(lr_predictions))],\n    'Log loss': [log_loss(y_train,lr_predictions_training)],\n    'Test Accuracy': [acc]})",
            "execution_count": 53,
            "outputs": []
        },
        {
            "metadata": {},
            "cell_type": "code",
            "source": "table.reset_index(drop=True,inplace=True)\ntable",
            "execution_count": 55,
            "outputs": [
                {
                    "output_type": "execute_result",
                    "execution_count": 55,
                    "data": {
                        "text/plain": "   Jaccard Similarity Score  F1 Score  Log loss  Test Accuracy\n0                     70.58  0.608417  0.577406       70.57917",
                        "text/html": "<div>\n<style scoped>\n    .dataframe tbody tr th:only-of-type {\n        vertical-align: middle;\n    }\n\n    .dataframe tbody tr th {\n        vertical-align: top;\n    }\n\n    .dataframe thead th {\n        text-align: right;\n    }\n</style>\n<table border=\"1\" class=\"dataframe\">\n  <thead>\n    <tr style=\"text-align: right;\">\n      <th></th>\n      <th>Jaccard Similarity Score</th>\n      <th>F1 Score</th>\n      <th>Log loss</th>\n      <th>Test Accuracy</th>\n    </tr>\n  </thead>\n  <tbody>\n    <tr>\n      <th>0</th>\n      <td>70.58</td>\n      <td>0.608417</td>\n      <td>0.577406</td>\n      <td>70.57917</td>\n    </tr>\n  </tbody>\n</table>\n</div>"
                    },
                    "metadata": {}
                }
            ]
        },
        {
            "metadata": {},
            "cell_type": "markdown",
            "source": " Conclusion: The model is 70.5% accurate on test data."
        }
    ],
    "metadata": {
        "kernelspec": {
            "name": "python3",
            "display_name": "Python 3.6",
            "language": "python"
        },
        "language_info": {
            "name": "python",
            "version": "3.6.9",
            "mimetype": "text/x-python",
            "codemirror_mode": {
                "name": "ipython",
                "version": 3
            },
            "pygments_lexer": "ipython3",
            "nbconvert_exporter": "python",
            "file_extension": ".py"
        }
    },
    "nbformat": 4,
    "nbformat_minor": 1
}